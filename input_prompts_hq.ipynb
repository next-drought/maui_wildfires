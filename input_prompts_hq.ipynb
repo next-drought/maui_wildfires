{
 "cells": [
  {
   "cell_type": "markdown",
   "metadata": {},
   "source": [
    "# Generating object masks from input prompts with HQ-SAM\n",
    "\n",
    "[![image](https://studiolab.sagemaker.aws/studiolab.svg)](https://studiolab.sagemaker.aws/import/github/opengeos/segment-geospatial/blob/main/docs/examples/input_prompts_hq.ipynb)\n",
    "[![image](https://img.shields.io/badge/Open-Planetary%20Computer-black?style=flat&logo=microsoft)](https://pccompute.westeurope.cloudapp.azure.com/compute/hub/user-redirect/git-pull?repo=https://github.com/opengeos/segment-geospatial&urlpath=lab/tree/segment-geospatial/docs/examples/input_prompts_hq.ipynb&branch=main)\n",
    "[![image](https://colab.research.google.com/assets/colab-badge.svg)](https://colab.research.google.com/github/opengeos/segment-geospatial/blob/main/docs/examples/input_prompts_hq.ipynb)\n",
    "\n",
    "This notebook shows how to generate object masks from input prompts with the High-Quality Segment Anything Model ([HQ-SAM](https://github.com/SysCV/sam-hq)). \n",
    "\n",
    "Make sure you use GPU runtime for this notebook. For Google Colab, go to `Runtime` -> `Change runtime type` and select `GPU` as the hardware accelerator. "
   ]
  },
  {
   "cell_type": "markdown",
   "metadata": {},
   "source": [
    "## Install dependencies\n",
    "\n",
    "Uncomment and run the following cell to install the required dependencies."
   ]
  },
  {
   "cell_type": "code",
   "execution_count": 1,
   "metadata": {},
   "outputs": [
    {
     "name": "stdout",
     "output_type": "stream",
     "text": [
      "Requirement already satisfied: segment-geospatial in /Users/dynamicpacific/.local/share/virtualenvs/maui_wildfires-53-tbror/lib/python3.9/site-packages (0.9.1)\n",
      "Requirement already satisfied: segment-anything-py in /Users/dynamicpacific/.local/share/virtualenvs/maui_wildfires-53-tbror/lib/python3.9/site-packages (from segment-geospatial) (1.0)\n",
      "Requirement already satisfied: segment-anything-hq in /Users/dynamicpacific/.local/share/virtualenvs/maui_wildfires-53-tbror/lib/python3.9/site-packages (from segment-geospatial) (0.3)\n",
      "Requirement already satisfied: opencv-python in /Users/dynamicpacific/.local/share/virtualenvs/maui_wildfires-53-tbror/lib/python3.9/site-packages (from segment-geospatial) (4.8.0.76)\n",
      "Requirement already satisfied: pycocotools in /Users/dynamicpacific/.local/share/virtualenvs/maui_wildfires-53-tbror/lib/python3.9/site-packages (from segment-geospatial) (2.0.7)\n",
      "Requirement already satisfied: matplotlib in /Users/dynamicpacific/.local/share/virtualenvs/maui_wildfires-53-tbror/lib/python3.9/site-packages (from segment-geospatial) (3.7.2)\n",
      "Requirement already satisfied: huggingface-hub in /Users/dynamicpacific/.local/share/virtualenvs/maui_wildfires-53-tbror/lib/python3.9/site-packages (from segment-geospatial) (0.16.4)\n",
      "Requirement already satisfied: geopandas in /Users/dynamicpacific/.local/share/virtualenvs/maui_wildfires-53-tbror/lib/python3.9/site-packages (from segment-geospatial) (0.13.2)\n",
      "Requirement already satisfied: rasterio in /Users/dynamicpacific/.local/share/virtualenvs/maui_wildfires-53-tbror/lib/python3.9/site-packages (from segment-geospatial) (1.3.8)\n",
      "Requirement already satisfied: tqdm in /Users/dynamicpacific/.local/share/virtualenvs/maui_wildfires-53-tbror/lib/python3.9/site-packages (from segment-geospatial) (4.66.1)\n",
      "Requirement already satisfied: gdown in /Users/dynamicpacific/.local/share/virtualenvs/maui_wildfires-53-tbror/lib/python3.9/site-packages (from segment-geospatial) (4.7.1)\n",
      "Requirement already satisfied: xyzservices in /Users/dynamicpacific/.local/share/virtualenvs/maui_wildfires-53-tbror/lib/python3.9/site-packages (from segment-geospatial) (2023.7.0)\n",
      "Requirement already satisfied: pyproj in /Users/dynamicpacific/.local/share/virtualenvs/maui_wildfires-53-tbror/lib/python3.9/site-packages (from segment-geospatial) (3.6.0)\n",
      "Requirement already satisfied: leafmap in /Users/dynamicpacific/.local/share/virtualenvs/maui_wildfires-53-tbror/lib/python3.9/site-packages (from segment-geospatial) (0.23.3)\n",
      "Requirement already satisfied: localtileserver in /Users/dynamicpacific/.local/share/virtualenvs/maui_wildfires-53-tbror/lib/python3.9/site-packages (from segment-geospatial) (0.7.1)\n",
      "Requirement already satisfied: timm in /Users/dynamicpacific/.local/share/virtualenvs/maui_wildfires-53-tbror/lib/python3.9/site-packages (from segment-geospatial) (0.9.5)\n",
      "Requirement already satisfied: filelock in /Users/dynamicpacific/.local/share/virtualenvs/maui_wildfires-53-tbror/lib/python3.9/site-packages (from gdown->segment-geospatial) (3.12.2)\n",
      "Requirement already satisfied: requests[socks] in /Users/dynamicpacific/.local/share/virtualenvs/maui_wildfires-53-tbror/lib/python3.9/site-packages (from gdown->segment-geospatial) (2.31.0)\n",
      "Requirement already satisfied: six in /Users/dynamicpacific/.local/share/virtualenvs/maui_wildfires-53-tbror/lib/python3.9/site-packages (from gdown->segment-geospatial) (1.16.0)\n",
      "Requirement already satisfied: beautifulsoup4 in /Users/dynamicpacific/.local/share/virtualenvs/maui_wildfires-53-tbror/lib/python3.9/site-packages (from gdown->segment-geospatial) (4.12.2)\n",
      "Requirement already satisfied: fiona>=1.8.19 in /Users/dynamicpacific/.local/share/virtualenvs/maui_wildfires-53-tbror/lib/python3.9/site-packages (from geopandas->segment-geospatial) (1.9.4.post1)\n",
      "Requirement already satisfied: packaging in /Users/dynamicpacific/.local/share/virtualenvs/maui_wildfires-53-tbror/lib/python3.9/site-packages (from geopandas->segment-geospatial) (23.1)\n",
      "Requirement already satisfied: pandas>=1.1.0 in /Users/dynamicpacific/.local/share/virtualenvs/maui_wildfires-53-tbror/lib/python3.9/site-packages (from geopandas->segment-geospatial) (2.0.3)\n",
      "Requirement already satisfied: shapely>=1.7.1 in /Users/dynamicpacific/.local/share/virtualenvs/maui_wildfires-53-tbror/lib/python3.9/site-packages (from geopandas->segment-geospatial) (2.0.1)\n",
      "Requirement already satisfied: certifi in /Users/dynamicpacific/.local/share/virtualenvs/maui_wildfires-53-tbror/lib/python3.9/site-packages (from pyproj->segment-geospatial) (2023.7.22)\n",
      "Requirement already satisfied: fsspec in /Users/dynamicpacific/.local/share/virtualenvs/maui_wildfires-53-tbror/lib/python3.9/site-packages (from huggingface-hub->segment-geospatial) (2023.6.0)\n",
      "Requirement already satisfied: pyyaml>=5.1 in /Users/dynamicpacific/.local/share/virtualenvs/maui_wildfires-53-tbror/lib/python3.9/site-packages (from huggingface-hub->segment-geospatial) (6.0.1)\n",
      "Requirement already satisfied: typing-extensions>=3.7.4.3 in /Users/dynamicpacific/.local/share/virtualenvs/maui_wildfires-53-tbror/lib/python3.9/site-packages (from huggingface-hub->segment-geospatial) (4.7.1)\n",
      "Requirement already satisfied: bqplot in /Users/dynamicpacific/.local/share/virtualenvs/maui_wildfires-53-tbror/lib/python3.9/site-packages (from leafmap->segment-geospatial) (0.12.40)\n",
      "Requirement already satisfied: colour in /Users/dynamicpacific/.local/share/virtualenvs/maui_wildfires-53-tbror/lib/python3.9/site-packages (from leafmap->segment-geospatial) (0.1.5)\n",
      "Requirement already satisfied: folium in /Users/dynamicpacific/.local/share/virtualenvs/maui_wildfires-53-tbror/lib/python3.9/site-packages (from leafmap->segment-geospatial) (0.14.0)\n",
      "Requirement already satisfied: geojson in /Users/dynamicpacific/.local/share/virtualenvs/maui_wildfires-53-tbror/lib/python3.9/site-packages (from leafmap->segment-geospatial) (3.0.1)\n",
      "Requirement already satisfied: ipyevents in /Users/dynamicpacific/.local/share/virtualenvs/maui_wildfires-53-tbror/lib/python3.9/site-packages (from leafmap->segment-geospatial) (2.0.1)\n",
      "Requirement already satisfied: ipyfilechooser in /Users/dynamicpacific/.local/share/virtualenvs/maui_wildfires-53-tbror/lib/python3.9/site-packages (from leafmap->segment-geospatial) (0.6.0)\n",
      "Requirement already satisfied: ipyleaflet in /Users/dynamicpacific/.local/share/virtualenvs/maui_wildfires-53-tbror/lib/python3.9/site-packages (from leafmap->segment-geospatial) (0.17.3)\n",
      "Requirement already satisfied: ipywidgets in /Users/dynamicpacific/.local/share/virtualenvs/maui_wildfires-53-tbror/lib/python3.9/site-packages (from leafmap->segment-geospatial) (8.1.0)\n",
      "Requirement already satisfied: numpy in /Users/dynamicpacific/.local/share/virtualenvs/maui_wildfires-53-tbror/lib/python3.9/site-packages (from leafmap->segment-geospatial) (1.25.2)\n",
      "Requirement already satisfied: pyshp in /Users/dynamicpacific/.local/share/virtualenvs/maui_wildfires-53-tbror/lib/python3.9/site-packages (from leafmap->segment-geospatial) (2.3.1)\n",
      "Requirement already satisfied: pystac-client in /Users/dynamicpacific/.local/share/virtualenvs/maui_wildfires-53-tbror/lib/python3.9/site-packages (from leafmap->segment-geospatial) (0.7.2)\n",
      "Requirement already satisfied: python-box in /Users/dynamicpacific/.local/share/virtualenvs/maui_wildfires-53-tbror/lib/python3.9/site-packages (from leafmap->segment-geospatial) (7.0.1)\n",
      "Requirement already satisfied: scooby in /Users/dynamicpacific/.local/share/virtualenvs/maui_wildfires-53-tbror/lib/python3.9/site-packages (from leafmap->segment-geospatial) (0.7.2)\n",
      "Requirement already satisfied: whiteboxgui in /Users/dynamicpacific/.local/share/virtualenvs/maui_wildfires-53-tbror/lib/python3.9/site-packages (from leafmap->segment-geospatial) (2.3.0)\n",
      "Requirement already satisfied: click in /Users/dynamicpacific/.local/share/virtualenvs/maui_wildfires-53-tbror/lib/python3.9/site-packages (from localtileserver->segment-geospatial) (8.1.7)\n",
      "Requirement already satisfied: flask>=2.0.0 in /Users/dynamicpacific/.local/share/virtualenvs/maui_wildfires-53-tbror/lib/python3.9/site-packages (from localtileserver->segment-geospatial) (2.3.2)\n",
      "Requirement already satisfied: Flask-Caching in /Users/dynamicpacific/.local/share/virtualenvs/maui_wildfires-53-tbror/lib/python3.9/site-packages (from localtileserver->segment-geospatial) (2.0.2)\n",
      "Requirement already satisfied: flask-cors in /Users/dynamicpacific/.local/share/virtualenvs/maui_wildfires-53-tbror/lib/python3.9/site-packages (from localtileserver->segment-geospatial) (4.0.0)\n",
      "Requirement already satisfied: flask-restx>=0.5.0 in /Users/dynamicpacific/.local/share/virtualenvs/maui_wildfires-53-tbror/lib/python3.9/site-packages (from localtileserver->segment-geospatial) (1.1.0)\n",
      "Requirement already satisfied: large-image[rasterio]>=1.22.2 in /Users/dynamicpacific/.local/share/virtualenvs/maui_wildfires-53-tbror/lib/python3.9/site-packages (from localtileserver->segment-geospatial) (1.23.3)\n",
      "Requirement already satisfied: server-thread in /Users/dynamicpacific/.local/share/virtualenvs/maui_wildfires-53-tbror/lib/python3.9/site-packages (from localtileserver->segment-geospatial) (0.2.0)\n",
      "Requirement already satisfied: werkzeug in /Users/dynamicpacific/.local/share/virtualenvs/maui_wildfires-53-tbror/lib/python3.9/site-packages (from localtileserver->segment-geospatial) (2.3.7)\n",
      "Requirement already satisfied: contourpy>=1.0.1 in /Users/dynamicpacific/.local/share/virtualenvs/maui_wildfires-53-tbror/lib/python3.9/site-packages (from matplotlib->segment-geospatial) (1.1.0)\n",
      "Requirement already satisfied: cycler>=0.10 in /Users/dynamicpacific/.local/share/virtualenvs/maui_wildfires-53-tbror/lib/python3.9/site-packages (from matplotlib->segment-geospatial) (0.11.0)\n",
      "Requirement already satisfied: fonttools>=4.22.0 in /Users/dynamicpacific/.local/share/virtualenvs/maui_wildfires-53-tbror/lib/python3.9/site-packages (from matplotlib->segment-geospatial) (4.42.1)\n",
      "Requirement already satisfied: kiwisolver>=1.0.1 in /Users/dynamicpacific/.local/share/virtualenvs/maui_wildfires-53-tbror/lib/python3.9/site-packages (from matplotlib->segment-geospatial) (1.4.4)\n",
      "Requirement already satisfied: pillow>=6.2.0 in /Users/dynamicpacific/.local/share/virtualenvs/maui_wildfires-53-tbror/lib/python3.9/site-packages (from matplotlib->segment-geospatial) (10.0.0)\n",
      "Requirement already satisfied: pyparsing<3.1,>=2.3.1 in /Users/dynamicpacific/.local/share/virtualenvs/maui_wildfires-53-tbror/lib/python3.9/site-packages (from matplotlib->segment-geospatial) (3.0.9)\n",
      "Requirement already satisfied: python-dateutil>=2.7 in /Users/dynamicpacific/.local/share/virtualenvs/maui_wildfires-53-tbror/lib/python3.9/site-packages (from matplotlib->segment-geospatial) (2.8.2)\n",
      "Requirement already satisfied: importlib-resources>=3.2.0 in /Users/dynamicpacific/.local/share/virtualenvs/maui_wildfires-53-tbror/lib/python3.9/site-packages (from matplotlib->segment-geospatial) (6.0.1)\n",
      "Requirement already satisfied: affine in /Users/dynamicpacific/.local/share/virtualenvs/maui_wildfires-53-tbror/lib/python3.9/site-packages (from rasterio->segment-geospatial) (2.4.0)\n",
      "Requirement already satisfied: attrs in /Users/dynamicpacific/.local/share/virtualenvs/maui_wildfires-53-tbror/lib/python3.9/site-packages (from rasterio->segment-geospatial) (23.1.0)\n",
      "Requirement already satisfied: cligj>=0.5 in /Users/dynamicpacific/.local/share/virtualenvs/maui_wildfires-53-tbror/lib/python3.9/site-packages (from rasterio->segment-geospatial) (0.7.2)\n",
      "Requirement already satisfied: snuggs>=1.4.1 in /Users/dynamicpacific/.local/share/virtualenvs/maui_wildfires-53-tbror/lib/python3.9/site-packages (from rasterio->segment-geospatial) (1.4.7)\n",
      "Requirement already satisfied: click-plugins in /Users/dynamicpacific/.local/share/virtualenvs/maui_wildfires-53-tbror/lib/python3.9/site-packages (from rasterio->segment-geospatial) (1.1.1)\n",
      "Requirement already satisfied: setuptools in /Users/dynamicpacific/.local/share/virtualenvs/maui_wildfires-53-tbror/lib/python3.9/site-packages (from rasterio->segment-geospatial) (68.0.0)\n",
      "Requirement already satisfied: torch>=1.7 in /Users/dynamicpacific/.local/share/virtualenvs/maui_wildfires-53-tbror/lib/python3.9/site-packages (from segment-anything-hq->segment-geospatial) (2.0.1)\n",
      "Requirement already satisfied: torchvision>=0.8 in /Users/dynamicpacific/.local/share/virtualenvs/maui_wildfires-53-tbror/lib/python3.9/site-packages (from segment-anything-hq->segment-geospatial) (0.15.2)\n",
      "Requirement already satisfied: safetensors in /Users/dynamicpacific/.local/share/virtualenvs/maui_wildfires-53-tbror/lib/python3.9/site-packages (from timm->segment-geospatial) (0.3.2)\n",
      "Requirement already satisfied: importlib-metadata in /Users/dynamicpacific/.local/share/virtualenvs/maui_wildfires-53-tbror/lib/python3.9/site-packages (from fiona>=1.8.19->geopandas->segment-geospatial) (6.8.0)\n",
      "Requirement already satisfied: Jinja2>=3.1.2 in /Users/dynamicpacific/.local/share/virtualenvs/maui_wildfires-53-tbror/lib/python3.9/site-packages (from flask>=2.0.0->localtileserver->segment-geospatial) (3.1.2)\n",
      "Requirement already satisfied: itsdangerous>=2.1.2 in /Users/dynamicpacific/.local/share/virtualenvs/maui_wildfires-53-tbror/lib/python3.9/site-packages (from flask>=2.0.0->localtileserver->segment-geospatial) (2.1.2)\n",
      "Requirement already satisfied: blinker>=1.6.2 in /Users/dynamicpacific/.local/share/virtualenvs/maui_wildfires-53-tbror/lib/python3.9/site-packages (from flask>=2.0.0->localtileserver->segment-geospatial) (1.6.2)\n",
      "Requirement already satisfied: aniso8601>=0.82 in /Users/dynamicpacific/.local/share/virtualenvs/maui_wildfires-53-tbror/lib/python3.9/site-packages (from flask-restx>=0.5.0->localtileserver->segment-geospatial) (9.0.1)\n",
      "Requirement already satisfied: jsonschema in /Users/dynamicpacific/.local/share/virtualenvs/maui_wildfires-53-tbror/lib/python3.9/site-packages (from flask-restx>=0.5.0->localtileserver->segment-geospatial) (4.19.0)\n",
      "Requirement already satisfied: pytz in /Users/dynamicpacific/.local/share/virtualenvs/maui_wildfires-53-tbror/lib/python3.9/site-packages (from flask-restx>=0.5.0->localtileserver->segment-geospatial) (2023.3)\n",
      "Requirement already satisfied: zipp>=3.1.0 in /Users/dynamicpacific/.local/share/virtualenvs/maui_wildfires-53-tbror/lib/python3.9/site-packages (from importlib-resources>=3.2.0->matplotlib->segment-geospatial) (3.16.2)\n",
      "Requirement already satisfied: cachetools in /Users/dynamicpacific/.local/share/virtualenvs/maui_wildfires-53-tbror/lib/python3.9/site-packages (from large-image[rasterio]>=1.22.2->localtileserver->segment-geospatial) (5.3.1)\n",
      "Requirement already satisfied: palettable in /Users/dynamicpacific/.local/share/virtualenvs/maui_wildfires-53-tbror/lib/python3.9/site-packages (from large-image[rasterio]>=1.22.2->localtileserver->segment-geospatial) (3.3.3)\n",
      "Requirement already satisfied: large-image-source-rasterio>=1.23.3 in /Users/dynamicpacific/.local/share/virtualenvs/maui_wildfires-53-tbror/lib/python3.9/site-packages (from large-image[rasterio]>=1.22.2->localtileserver->segment-geospatial) (1.23.3)\n",
      "Requirement already satisfied: tzdata>=2022.1 in /Users/dynamicpacific/.local/share/virtualenvs/maui_wildfires-53-tbror/lib/python3.9/site-packages (from pandas>=1.1.0->geopandas->segment-geospatial) (2023.3)\n",
      "Requirement already satisfied: sympy in /Users/dynamicpacific/.local/share/virtualenvs/maui_wildfires-53-tbror/lib/python3.9/site-packages (from torch>=1.7->segment-anything-hq->segment-geospatial) (1.12)\n",
      "Requirement already satisfied: networkx in /Users/dynamicpacific/.local/share/virtualenvs/maui_wildfires-53-tbror/lib/python3.9/site-packages (from torch>=1.7->segment-anything-hq->segment-geospatial) (3.1)\n",
      "Requirement already satisfied: MarkupSafe>=2.1.1 in /Users/dynamicpacific/.local/share/virtualenvs/maui_wildfires-53-tbror/lib/python3.9/site-packages (from werkzeug->localtileserver->segment-geospatial) (2.1.3)\n",
      "Requirement already satisfied: soupsieve>1.2 in /Users/dynamicpacific/.local/share/virtualenvs/maui_wildfires-53-tbror/lib/python3.9/site-packages (from beautifulsoup4->gdown->segment-geospatial) (2.4.1)\n",
      "Requirement already satisfied: traitlets>=4.3.0 in /Users/dynamicpacific/.local/share/virtualenvs/maui_wildfires-53-tbror/lib/python3.9/site-packages (from bqplot->leafmap->segment-geospatial) (5.9.0)\n",
      "Requirement already satisfied: traittypes>=0.0.6 in /Users/dynamicpacific/.local/share/virtualenvs/maui_wildfires-53-tbror/lib/python3.9/site-packages (from bqplot->leafmap->segment-geospatial) (0.2.1)\n",
      "Requirement already satisfied: comm>=0.1.3 in /Users/dynamicpacific/.local/share/virtualenvs/maui_wildfires-53-tbror/lib/python3.9/site-packages (from ipywidgets->leafmap->segment-geospatial) (0.1.4)\n",
      "Requirement already satisfied: ipython>=6.1.0 in /Users/dynamicpacific/.local/share/virtualenvs/maui_wildfires-53-tbror/lib/python3.9/site-packages (from ipywidgets->leafmap->segment-geospatial) (8.14.0)\n",
      "Requirement already satisfied: widgetsnbextension~=4.0.7 in /Users/dynamicpacific/.local/share/virtualenvs/maui_wildfires-53-tbror/lib/python3.9/site-packages (from ipywidgets->leafmap->segment-geospatial) (4.0.8)\n",
      "Requirement already satisfied: jupyterlab-widgets~=3.0.7 in /Users/dynamicpacific/.local/share/virtualenvs/maui_wildfires-53-tbror/lib/python3.9/site-packages (from ipywidgets->leafmap->segment-geospatial) (3.0.8)\n",
      "Requirement already satisfied: cachelib<0.10.0,>=0.9.0 in /Users/dynamicpacific/.local/share/virtualenvs/maui_wildfires-53-tbror/lib/python3.9/site-packages (from Flask-Caching->localtileserver->segment-geospatial) (0.9.0)\n",
      "Requirement already satisfied: branca>=0.6.0 in /Users/dynamicpacific/.local/share/virtualenvs/maui_wildfires-53-tbror/lib/python3.9/site-packages (from folium->leafmap->segment-geospatial) (0.6.0)\n",
      "Requirement already satisfied: pystac[validation]>=1.7.2 in /Users/dynamicpacific/.local/share/virtualenvs/maui_wildfires-53-tbror/lib/python3.9/site-packages (from pystac-client->leafmap->segment-geospatial) (1.8.3)\n",
      "Requirement already satisfied: charset-normalizer<4,>=2 in /Users/dynamicpacific/.local/share/virtualenvs/maui_wildfires-53-tbror/lib/python3.9/site-packages (from requests[socks]->gdown->segment-geospatial) (3.2.0)\n",
      "Requirement already satisfied: idna<4,>=2.5 in /Users/dynamicpacific/.local/share/virtualenvs/maui_wildfires-53-tbror/lib/python3.9/site-packages (from requests[socks]->gdown->segment-geospatial) (3.4)\n",
      "Requirement already satisfied: urllib3<3,>=1.21.1 in /Users/dynamicpacific/.local/share/virtualenvs/maui_wildfires-53-tbror/lib/python3.9/site-packages (from requests[socks]->gdown->segment-geospatial) (2.0.4)\n",
      "Requirement already satisfied: PySocks!=1.5.7,>=1.5.6 in /Users/dynamicpacific/.local/share/virtualenvs/maui_wildfires-53-tbror/lib/python3.9/site-packages (from requests[socks]->gdown->segment-geospatial) (1.7.1)\n",
      "Requirement already satisfied: uvicorn in /Users/dynamicpacific/.local/share/virtualenvs/maui_wildfires-53-tbror/lib/python3.9/site-packages (from server-thread->localtileserver->segment-geospatial) (0.23.2)\n",
      "Requirement already satisfied: ipytree in /Users/dynamicpacific/.local/share/virtualenvs/maui_wildfires-53-tbror/lib/python3.9/site-packages (from whiteboxgui->leafmap->segment-geospatial) (0.2.2)\n",
      "Requirement already satisfied: whitebox in /Users/dynamicpacific/.local/share/virtualenvs/maui_wildfires-53-tbror/lib/python3.9/site-packages (from whiteboxgui->leafmap->segment-geospatial) (2.3.1)\n",
      "Requirement already satisfied: backcall in /Users/dynamicpacific/.local/share/virtualenvs/maui_wildfires-53-tbror/lib/python3.9/site-packages (from ipython>=6.1.0->ipywidgets->leafmap->segment-geospatial) (0.2.0)\n",
      "Requirement already satisfied: decorator in /Users/dynamicpacific/.local/share/virtualenvs/maui_wildfires-53-tbror/lib/python3.9/site-packages (from ipython>=6.1.0->ipywidgets->leafmap->segment-geospatial) (5.1.1)\n",
      "Requirement already satisfied: jedi>=0.16 in /Users/dynamicpacific/.local/share/virtualenvs/maui_wildfires-53-tbror/lib/python3.9/site-packages (from ipython>=6.1.0->ipywidgets->leafmap->segment-geospatial) (0.19.0)\n",
      "Requirement already satisfied: matplotlib-inline in /Users/dynamicpacific/.local/share/virtualenvs/maui_wildfires-53-tbror/lib/python3.9/site-packages (from ipython>=6.1.0->ipywidgets->leafmap->segment-geospatial) (0.1.6)\n",
      "Requirement already satisfied: pickleshare in /Users/dynamicpacific/.local/share/virtualenvs/maui_wildfires-53-tbror/lib/python3.9/site-packages (from ipython>=6.1.0->ipywidgets->leafmap->segment-geospatial) (0.7.5)\n",
      "Requirement already satisfied: prompt-toolkit!=3.0.37,<3.1.0,>=3.0.30 in /Users/dynamicpacific/.local/share/virtualenvs/maui_wildfires-53-tbror/lib/python3.9/site-packages (from ipython>=6.1.0->ipywidgets->leafmap->segment-geospatial) (3.0.39)\n",
      "Requirement already satisfied: pygments>=2.4.0 in /Users/dynamicpacific/.local/share/virtualenvs/maui_wildfires-53-tbror/lib/python3.9/site-packages (from ipython>=6.1.0->ipywidgets->leafmap->segment-geospatial) (2.16.1)\n",
      "Requirement already satisfied: stack-data in /Users/dynamicpacific/.local/share/virtualenvs/maui_wildfires-53-tbror/lib/python3.9/site-packages (from ipython>=6.1.0->ipywidgets->leafmap->segment-geospatial) (0.6.2)\n",
      "Requirement already satisfied: pexpect>4.3 in /Users/dynamicpacific/.local/share/virtualenvs/maui_wildfires-53-tbror/lib/python3.9/site-packages (from ipython>=6.1.0->ipywidgets->leafmap->segment-geospatial) (4.8.0)\n",
      "Requirement already satisfied: appnope in /Users/dynamicpacific/.local/share/virtualenvs/maui_wildfires-53-tbror/lib/python3.9/site-packages (from ipython>=6.1.0->ipywidgets->leafmap->segment-geospatial) (0.1.3)\n",
      "Collecting jsonschema (from flask-restx>=0.5.0->localtileserver->segment-geospatial)\n",
      "  Using cached jsonschema-4.17.3-py3-none-any.whl (90 kB)\n",
      "Requirement already satisfied: pyrsistent!=0.17.0,!=0.17.1,!=0.17.2,>=0.14.0 in /Users/dynamicpacific/.local/share/virtualenvs/maui_wildfires-53-tbror/lib/python3.9/site-packages (from jsonschema->flask-restx>=0.5.0->localtileserver->segment-geospatial) (0.19.3)\n",
      "Requirement already satisfied: mpmath>=0.19 in /Users/dynamicpacific/.local/share/virtualenvs/maui_wildfires-53-tbror/lib/python3.9/site-packages (from sympy->torch>=1.7->segment-anything-hq->segment-geospatial) (1.3.0)\n",
      "Requirement already satisfied: h11>=0.8 in /Users/dynamicpacific/.local/share/virtualenvs/maui_wildfires-53-tbror/lib/python3.9/site-packages (from uvicorn->server-thread->localtileserver->segment-geospatial) (0.14.0)\n",
      "Requirement already satisfied: parso<0.9.0,>=0.8.3 in /Users/dynamicpacific/.local/share/virtualenvs/maui_wildfires-53-tbror/lib/python3.9/site-packages (from jedi>=0.16->ipython>=6.1.0->ipywidgets->leafmap->segment-geospatial) (0.8.3)\n",
      "Requirement already satisfied: ptyprocess>=0.5 in /Users/dynamicpacific/.local/share/virtualenvs/maui_wildfires-53-tbror/lib/python3.9/site-packages (from pexpect>4.3->ipython>=6.1.0->ipywidgets->leafmap->segment-geospatial) (0.7.0)\n",
      "Requirement already satisfied: wcwidth in /Users/dynamicpacific/.local/share/virtualenvs/maui_wildfires-53-tbror/lib/python3.9/site-packages (from prompt-toolkit!=3.0.37,<3.1.0,>=3.0.30->ipython>=6.1.0->ipywidgets->leafmap->segment-geospatial) (0.2.6)\n",
      "Requirement already satisfied: executing>=1.2.0 in /Users/dynamicpacific/.local/share/virtualenvs/maui_wildfires-53-tbror/lib/python3.9/site-packages (from stack-data->ipython>=6.1.0->ipywidgets->leafmap->segment-geospatial) (1.2.0)\n",
      "Requirement already satisfied: asttokens>=2.1.0 in /Users/dynamicpacific/.local/share/virtualenvs/maui_wildfires-53-tbror/lib/python3.9/site-packages (from stack-data->ipython>=6.1.0->ipywidgets->leafmap->segment-geospatial) (2.2.1)\n",
      "Requirement already satisfied: pure-eval in /Users/dynamicpacific/.local/share/virtualenvs/maui_wildfires-53-tbror/lib/python3.9/site-packages (from stack-data->ipython>=6.1.0->ipywidgets->leafmap->segment-geospatial) (0.2.2)\n",
      "Installing collected packages: jsonschema\n",
      "  Attempting uninstall: jsonschema\n",
      "    Found existing installation: jsonschema 4.19.0\n",
      "    Uninstalling jsonschema-4.19.0:\n",
      "      Successfully uninstalled jsonschema-4.19.0\n",
      "\u001b[31mERROR: pip's dependency resolver does not currently take into account all the packages that are installed. This behaviour is the source of the following dependency conflicts.\n",
      "jupyter-events 0.7.0 requires jsonschema[format-nongpl]>=4.18.0, but you have jsonschema 4.17.3 which is incompatible.\u001b[0m\u001b[31m\n",
      "\u001b[0mSuccessfully installed jsonschema-4.17.3\n"
     ]
    }
   ],
   "source": [
    "!pip install segment-geospatial"
   ]
  },
  {
   "cell_type": "code",
   "execution_count": 2,
   "metadata": {},
   "outputs": [
    {
     "name": "stderr",
     "output_type": "stream",
     "text": [
      "/Users/dynamicpacific/.local/share/virtualenvs/maui_wildfires-53-tbror/lib/python3.9/site-packages/urllib3/__init__.py:34: NotOpenSSLWarning: urllib3 v2.0 only supports OpenSSL 1.1.1+, currently the 'ssl' module is compiled with 'LibreSSL 2.8.3'. See: https://github.com/urllib3/urllib3/issues/3020\n",
      "  warnings.warn(\n"
     ]
    }
   ],
   "source": [
    "import os\n",
    "import leafmap\n",
    "from samgeo.hq_sam import SamGeo, tms_to_geotiff"
   ]
  },
  {
   "cell_type": "markdown",
   "metadata": {},
   "source": [
    "## Create an interactive map"
   ]
  },
  {
   "cell_type": "code",
   "execution_count": 6,
   "metadata": {},
   "outputs": [
    {
     "data": {
      "application/vnd.jupyter.widget-view+json": {
       "model_id": "4ca471dfcaa744d69264089c614cc055",
       "version_major": 2,
       "version_minor": 0
      },
      "text/plain": [
       "Map(center=[37.6412, -122.1353], controls=(ZoomControl(options=['position', 'zoom_in_text', 'zoom_in_title', '…"
      ]
     },
     "execution_count": 6,
     "metadata": {},
     "output_type": "execute_result"
    }
   ],
   "source": [
    "m = leafmap.Map(center=[37.6412, -122.1353], zoom=15, height=\"800px\")\n",
    "m.add_basemap(\"SATELLITE\")\n",
    "m"
   ]
  },
  {
   "cell_type": "code",
   "execution_count": 7,
   "metadata": {},
   "outputs": [
    {
     "name": "stdout",
     "output_type": "stream",
     "text": [
      "affine==2.4.0\n",
      "aniso8601==9.0.1\n",
      "anyio==3.7.1\n",
      "appnope==0.1.3\n",
      "argon2-cffi==23.1.0\n",
      "argon2-cffi-bindings==21.2.0\n",
      "arrow==1.2.3\n",
      "asttokens==2.2.1\n",
      "async-lru==2.0.4\n",
      "attrs==23.1.0\n",
      "Babel==2.12.1\n",
      "backcall==0.2.0\n",
      "beautifulsoup4==4.12.2\n",
      "bleach==6.0.0\n",
      "blinker==1.6.2\n",
      "bqplot==0.12.40\n",
      "branca==0.6.0\n",
      "cachelib==0.9.0\n",
      "cachetools==5.3.1\n",
      "certifi==2023.7.22\n",
      "cffi==1.15.1\n",
      "charset-normalizer==3.2.0\n",
      "click==8.1.7\n",
      "click-plugins==1.1.1\n",
      "cligj==0.7.2\n",
      "colour==0.1.5\n",
      "comm==0.1.4\n",
      "contourpy==1.1.0\n",
      "cycler==0.11.0\n",
      "debugpy==1.6.7.post1\n",
      "decorator==5.1.1\n",
      "defusedxml==0.7.1\n",
      "exceptiongroup==1.1.3\n",
      "executing==1.2.0\n",
      "fastjsonschema==2.18.0\n",
      "filelock==3.12.2\n",
      "Fiona==1.9.4.post1\n",
      "Flask==2.3.2\n",
      "Flask-Caching==2.0.2\n",
      "Flask-Cors==4.0.0\n",
      "flask-restx==1.1.0\n",
      "folium==0.14.0\n",
      "fonttools==4.42.1\n",
      "fqdn==1.5.1\n",
      "fsspec==2023.6.0\n",
      "gdown==4.7.1\n",
      "geojson==3.0.1\n",
      "geopandas==0.13.2\n",
      "h11==0.14.0\n",
      "huggingface-hub==0.16.4\n",
      "idna==3.4\n",
      "importlib-metadata==6.8.0\n",
      "importlib-resources==6.0.1\n",
      "ipyevents==2.0.1\n",
      "ipyfilechooser==0.6.0\n",
      "ipykernel==6.25.1\n",
      "ipyleaflet==0.17.3\n",
      "ipython==8.14.0\n",
      "ipytree==0.2.2\n",
      "ipywidgets==8.1.0\n",
      "isoduration==20.11.0\n",
      "itsdangerous==2.1.2\n",
      "jedi==0.19.0\n",
      "Jinja2==3.1.2\n",
      "json5==0.9.14\n",
      "jsonpointer==2.4\n",
      "jsonschema==4.19.0\n",
      "jsonschema-specifications==2023.7.1\n",
      "jupyter-events==0.7.0\n",
      "jupyter-lsp==2.2.0\n",
      "jupyter_client==8.3.0\n",
      "jupyter_core==5.3.1\n",
      "jupyter_server==2.7.2\n",
      "jupyter_server_terminals==0.4.4\n",
      "jupyterlab==4.0.5\n",
      "jupyterlab-pygments==0.2.2\n",
      "jupyterlab-widgets==3.0.8\n",
      "jupyterlab_server==2.24.0\n",
      "kiwisolver==1.4.4\n",
      "large-image==1.23.3\n",
      "large-image-source-rasterio==1.23.3\n",
      "leafmap==0.23.3\n",
      "localtileserver==0.7.1\n",
      "MarkupSafe==2.1.3\n",
      "matplotlib==3.7.2\n",
      "matplotlib-inline==0.1.6\n",
      "mistune==3.0.1\n",
      "mpmath==1.3.0\n",
      "nbclient==0.8.0\n",
      "nbconvert==7.7.4\n",
      "nbformat==5.9.2\n",
      "nest-asyncio==1.5.7\n",
      "networkx==3.1\n",
      "notebook==7.0.2\n",
      "notebook_shim==0.2.3\n",
      "numpy==1.25.2\n",
      "opencv-python==4.8.0.76\n",
      "overrides==7.4.0\n",
      "packaging==23.1\n",
      "palettable==3.3.3\n",
      "pandas==2.0.3\n",
      "pandocfilters==1.5.0\n",
      "parso==0.8.3\n",
      "pexpect==4.8.0\n",
      "pickleshare==0.7.5\n",
      "Pillow==10.0.0\n",
      "platformdirs==3.10.0\n",
      "prometheus-client==0.17.1\n",
      "prompt-toolkit==3.0.39\n",
      "psutil==5.9.5\n",
      "ptyprocess==0.7.0\n",
      "pure-eval==0.2.2\n",
      "pycocotools==2.0.7\n",
      "pycparser==2.21\n",
      "Pygments==2.16.1\n",
      "pyparsing==3.0.9\n",
      "pyproj==3.6.0\n",
      "pyrsistent==0.19.3\n",
      "pyshp==2.3.1\n",
      "PySocks==1.7.1\n",
      "pystac==1.8.3\n",
      "pystac-client==0.7.2\n",
      "python-box==7.0.1\n",
      "python-dateutil==2.8.2\n",
      "python-json-logger==2.0.7\n",
      "pytz==2023.3\n",
      "PyYAML==6.0.1\n",
      "pyzmq==25.1.1\n",
      "rasterio==1.3.8\n",
      "referencing==0.30.2\n",
      "requests==2.31.0\n",
      "rfc3339-validator==0.1.4\n",
      "rfc3986-validator==0.1.1\n",
      "rpds-py==0.9.2\n",
      "safetensors==0.3.2\n",
      "scooby==0.7.2\n",
      "segment-anything-hq==0.3\n",
      "segment-anything-py==1.0\n",
      "segment-geospatial==0.9.1\n",
      "Send2Trash==1.8.2\n",
      "server-thread==0.2.0\n",
      "shapely==2.0.1\n",
      "six==1.16.0\n",
      "sniffio==1.3.0\n",
      "snuggs==1.4.7\n",
      "soupsieve==2.4.1\n",
      "stack-data==0.6.2\n",
      "sympy==1.12\n",
      "terminado==0.17.1\n",
      "timm==0.9.5\n",
      "tinycss2==1.2.1\n",
      "tomli==2.0.1\n",
      "torch==2.0.1\n",
      "torchvision==0.15.2\n",
      "tornado==6.3.3\n",
      "tqdm==4.66.1\n",
      "traitlets==5.9.0\n",
      "traittypes==0.2.1\n",
      "typing_extensions==4.7.1\n",
      "tzdata==2023.3\n",
      "uri-template==1.3.0\n",
      "urllib3==2.0.4\n",
      "uvicorn==0.23.2\n",
      "wcwidth==0.2.6\n",
      "webcolors==1.13\n",
      "webencodings==0.5.1\n",
      "websocket-client==1.6.1\n",
      "Werkzeug==2.3.7\n",
      "whitebox==2.3.1\n",
      "whiteboxgui==2.3.0\n",
      "widgetsnbextension==4.0.8\n",
      "xyzservices==2023.7.0\n",
      "zipp==3.16.2\n"
     ]
    }
   ],
   "source": [
    "!pip freeze\n"
   ]
  },
  {
   "cell_type": "markdown",
   "metadata": {},
   "source": [
    "## Download a sample image\n",
    "\n",
    "Pan and zoom the map to select the area of interest. Use the draw tools to draw a polygon or rectangle on the map"
   ]
  },
  {
   "cell_type": "code",
   "execution_count": 4,
   "metadata": {},
   "outputs": [],
   "source": [
    "if m.user_roi is not None:\n",
    "    bbox = m.user_roi_bounds()\n",
    "else:\n",
    "    bbox = [-122.1497, 37.6311, -122.1203, 37.6458]"
   ]
  },
  {
   "cell_type": "code",
   "execution_count": 5,
   "metadata": {},
   "outputs": [
    {
     "ename": "ImportError",
     "evalue": "GDAL is not installed. Install it with pip install GDAL",
     "output_type": "error",
     "traceback": [
      "\u001b[0;31m---------------------------------------------------------------------------\u001b[0m",
      "\u001b[0;31mModuleNotFoundError\u001b[0m                       Traceback (most recent call last)",
      "File \u001b[0;32m~/.local/share/virtualenvs/maui_wildfires-53-tbror/lib/python3.9/site-packages/samgeo/common.py:411\u001b[0m, in \u001b[0;36mtms_to_geotiff\u001b[0;34m(output, bbox, zoom, resolution, source, crs, to_cog, return_image, overwrite, quiet, **kwargs)\u001b[0m\n\u001b[1;32m    410\u001b[0m \u001b[38;5;28;01mtry\u001b[39;00m:\n\u001b[0;32m--> 411\u001b[0m     \u001b[38;5;28;01mfrom\u001b[39;00m \u001b[38;5;21;01mosgeo\u001b[39;00m \u001b[38;5;28;01mimport\u001b[39;00m gdal, osr\n\u001b[1;32m    412\u001b[0m \u001b[38;5;28;01mexcept\u001b[39;00m \u001b[38;5;167;01mImportError\u001b[39;00m:\n",
      "\u001b[0;31mModuleNotFoundError\u001b[0m: No module named 'osgeo'",
      "\nDuring handling of the above exception, another exception occurred:\n",
      "\u001b[0;31mImportError\u001b[0m                               Traceback (most recent call last)",
      "Cell \u001b[0;32mIn[5], line 2\u001b[0m\n\u001b[1;32m      1\u001b[0m image \u001b[38;5;241m=\u001b[39m \u001b[38;5;124m\"\u001b[39m\u001b[38;5;124msatellite.tif\u001b[39m\u001b[38;5;124m\"\u001b[39m\n\u001b[0;32m----> 2\u001b[0m \u001b[43mtms_to_geotiff\u001b[49m\u001b[43m(\u001b[49m\u001b[43moutput\u001b[49m\u001b[38;5;241;43m=\u001b[39;49m\u001b[43mimage\u001b[49m\u001b[43m,\u001b[49m\u001b[43m \u001b[49m\u001b[43mbbox\u001b[49m\u001b[38;5;241;43m=\u001b[39;49m\u001b[43mbbox\u001b[49m\u001b[43m,\u001b[49m\u001b[43m \u001b[49m\u001b[43mzoom\u001b[49m\u001b[38;5;241;43m=\u001b[39;49m\u001b[38;5;241;43m16\u001b[39;49m\u001b[43m,\u001b[49m\u001b[43m \u001b[49m\u001b[43msource\u001b[49m\u001b[38;5;241;43m=\u001b[39;49m\u001b[38;5;124;43m\"\u001b[39;49m\u001b[38;5;124;43mSatellite\u001b[39;49m\u001b[38;5;124;43m\"\u001b[39;49m\u001b[43m,\u001b[49m\u001b[43m \u001b[49m\u001b[43moverwrite\u001b[49m\u001b[38;5;241;43m=\u001b[39;49m\u001b[38;5;28;43;01mTrue\u001b[39;49;00m\u001b[43m)\u001b[49m\n",
      "File \u001b[0;32m~/.local/share/virtualenvs/maui_wildfires-53-tbror/lib/python3.9/site-packages/samgeo/common.py:413\u001b[0m, in \u001b[0;36mtms_to_geotiff\u001b[0;34m(output, bbox, zoom, resolution, source, crs, to_cog, return_image, overwrite, quiet, **kwargs)\u001b[0m\n\u001b[1;32m    411\u001b[0m     \u001b[38;5;28;01mfrom\u001b[39;00m \u001b[38;5;21;01mosgeo\u001b[39;00m \u001b[38;5;28;01mimport\u001b[39;00m gdal, osr\n\u001b[1;32m    412\u001b[0m \u001b[38;5;28;01mexcept\u001b[39;00m \u001b[38;5;167;01mImportError\u001b[39;00m:\n\u001b[0;32m--> 413\u001b[0m     \u001b[38;5;28;01mraise\u001b[39;00m \u001b[38;5;167;01mImportError\u001b[39;00m(\u001b[38;5;124m\"\u001b[39m\u001b[38;5;124mGDAL is not installed. Install it with pip install GDAL\u001b[39m\u001b[38;5;124m\"\u001b[39m)\n\u001b[1;32m    415\u001b[0m \u001b[38;5;28;01mtry\u001b[39;00m:\n\u001b[1;32m    416\u001b[0m     \u001b[38;5;28;01mimport\u001b[39;00m \u001b[38;5;21;01mhttpx\u001b[39;00m\n",
      "\u001b[0;31mImportError\u001b[0m: GDAL is not installed. Install it with pip install GDAL"
     ]
    }
   ],
   "source": [
    "image = \"satellite.tif\"\n",
    "tms_to_geotiff(output=image, bbox=bbox, zoom=16, source=\"Satellite\", overwrite=True)"
   ]
  },
  {
   "cell_type": "markdown",
   "metadata": {},
   "source": [
    "You can also use your own image. Uncomment and run the following cell to use your own image."
   ]
  },
  {
   "cell_type": "code",
   "execution_count": null,
   "metadata": {},
   "outputs": [],
   "source": [
    "# image = '/path/to/your/own/image.tif'"
   ]
  },
  {
   "cell_type": "markdown",
   "metadata": {},
   "source": [
    "Display the downloaded image on the map."
   ]
  },
  {
   "cell_type": "code",
   "execution_count": null,
   "metadata": {},
   "outputs": [],
   "source": [
    "m.layers[-1].visible = False\n",
    "m.add_raster(image, layer_name=\"Image\")\n",
    "m"
   ]
  },
  {
   "cell_type": "markdown",
   "metadata": {},
   "source": [
    "## Initialize SAM class\n",
    "\n",
    "Specify the file path to the model checkpoint. If it is not specified, the model will to downloaded to the working directory."
   ]
  },
  {
   "cell_type": "markdown",
   "metadata": {},
   "source": [
    "Set `automatic=False` to disable the `SamAutomaticMaskGenerator` and enable the `SamPredictor`."
   ]
  },
  {
   "cell_type": "code",
   "execution_count": null,
   "metadata": {},
   "outputs": [],
   "source": [
    "sam = SamGeo(\n",
    "    model_type=\"vit_h\",  # can be vit_h, vit_b, vit_l, vit_tiny\n",
    "    automatic=False,\n",
    "    sam_kwargs=None,\n",
    ")"
   ]
  },
  {
   "cell_type": "markdown",
   "metadata": {},
   "source": [
    "Specify the image to segment. "
   ]
  },
  {
   "cell_type": "code",
   "execution_count": null,
   "metadata": {},
   "outputs": [],
   "source": [
    "sam.set_image(image)"
   ]
  },
  {
   "cell_type": "markdown",
   "metadata": {},
   "source": [
    "## Image segmentation with input points\n",
    "\n",
    "A single point can be used to segment an object. The point can be specified as a tuple of (x, y), such as (col, row) or (lon, lat). The points can also be specified as a file path to a vector dataset. For non (col, row) input points, specify the `point_crs` parameter, which will automatically transform the points to the image column and row coordinates.\n",
    "\n",
    "Try a single point input:"
   ]
  },
  {
   "cell_type": "code",
   "execution_count": null,
   "metadata": {},
   "outputs": [],
   "source": [
    "point_coords = [[-122.1419, 37.6383]]\n",
    "sam.predict(point_coords, point_labels=1, point_crs=\"EPSG:4326\", output=\"mask1.tif\")\n",
    "m.add_raster(\"mask1.tif\", layer_name=\"Mask1\", nodata=0, cmap=\"Blues\", opacity=1)\n",
    "m"
   ]
  },
  {
   "cell_type": "markdown",
   "metadata": {},
   "source": [
    "Try multiple points input:"
   ]
  },
  {
   "cell_type": "code",
   "execution_count": null,
   "metadata": {},
   "outputs": [],
   "source": [
    "point_coords = [[-122.1464, 37.6431], [-122.1449, 37.6415], [-122.1451, 37.6395]]\n",
    "sam.predict(point_coords, point_labels=1, point_crs=\"EPSG:4326\", output=\"mask2.tif\")\n",
    "m.add_raster(\"mask2.tif\", layer_name=\"Mask2\", nodata=0, cmap=\"Greens\", opacity=1)\n",
    "m"
   ]
  },
  {
   "cell_type": "markdown",
   "metadata": {},
   "source": [
    "## Interactive segmentation\n",
    "\n",
    "Display the interactive map and use the marker tool to draw points on the map. Then click on the `Segment` button to segment the objects. The results will be added to the map automatically. Click on the `Reset` button to clear the points and the results."
   ]
  },
  {
   "cell_type": "code",
   "execution_count": null,
   "metadata": {},
   "outputs": [],
   "source": [
    "m = sam.show_map()\n",
    "m"
   ]
  },
  {
   "cell_type": "markdown",
   "metadata": {},
   "source": [
    "![](https://i.imgur.com/2Nyg9uW.gif)"
   ]
  }
 ],
 "metadata": {
  "kernelspec": {
   "display_name": "Python 3 (ipykernel)",
   "language": "python",
   "name": "python3"
  },
  "language_info": {
   "codemirror_mode": {
    "name": "ipython",
    "version": 3
   },
   "file_extension": ".py",
   "mimetype": "text/x-python",
   "name": "python",
   "nbconvert_exporter": "python",
   "pygments_lexer": "ipython3",
   "version": "3.9.6"
  }
 },
 "nbformat": 4,
 "nbformat_minor": 4
}
